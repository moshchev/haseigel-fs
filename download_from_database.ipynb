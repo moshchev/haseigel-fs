{
 "cells": [
  {
   "cell_type": "code",
   "execution_count": 11,
   "metadata": {},
   "outputs": [
    {
     "data": {
      "text/html": [
       "<div>\n",
       "<style scoped>\n",
       "    .dataframe tbody tr th:only-of-type {\n",
       "        vertical-align: middle;\n",
       "    }\n",
       "\n",
       "    .dataframe tbody tr th {\n",
       "        vertical-align: top;\n",
       "    }\n",
       "\n",
       "    .dataframe thead th {\n",
       "        text-align: right;\n",
       "    }\n",
       "</style>\n",
       "<table border=\"1\" class=\"dataframe\">\n",
       "  <thead>\n",
       "    <tr style=\"text-align: right;\">\n",
       "      <th></th>\n",
       "      <th>reference_id</th>\n",
       "      <th>domain_start_id</th>\n",
       "      <th>response_url</th>\n",
       "      <th>response_text</th>\n",
       "    </tr>\n",
       "  </thead>\n",
       "  <tbody>\n",
       "    <tr>\n",
       "      <th>0</th>\n",
       "      <td>23884</td>\n",
       "      <td>3292</td>\n",
       "      <td>https://bianchi-industrial.it/products/linear-...</td>\n",
       "      <td>&lt;!doctypehtml&gt;&lt;html class=no-js lang=en-GB&gt;&lt;me...</td>\n",
       "    </tr>\n",
       "    <tr>\n",
       "      <th>1</th>\n",
       "      <td>65092</td>\n",
       "      <td>1265</td>\n",
       "      <td>https://vilagrancha.com/en/1292-complete-clutc...</td>\n",
       "      <td>&lt;!doctypehtml&gt;&lt;html lang=en&gt;&lt;meta charset=utf-...</td>\n",
       "    </tr>\n",
       "    <tr>\n",
       "      <th>2</th>\n",
       "      <td>193015</td>\n",
       "      <td>278</td>\n",
       "      <td>https://www.groupe-lechevalier.com/produit/rou...</td>\n",
       "      <td>&lt;!doctypehtml&gt;&lt;html lang=fr xml:lang=fr xmlns:...</td>\n",
       "    </tr>\n",
       "    <tr>\n",
       "      <th>3</th>\n",
       "      <td>84150</td>\n",
       "      <td>1187</td>\n",
       "      <td>https://dachnikof.ru/products/Hozblok_Greensto...</td>\n",
       "      <td>&lt;!doctypehtml&gt;&lt;html lang=ru-RU&gt;&lt;meta content=\"...</td>\n",
       "    </tr>\n",
       "    <tr>\n",
       "      <th>4</th>\n",
       "      <td>72410</td>\n",
       "      <td>3308</td>\n",
       "      <td>https://www.bell.si/Lepila-in-tesnilne-mase/cy...</td>\n",
       "      <td>&lt;!doctypehtml&gt;&lt;html lang=sl&gt;&lt;meta charset=utf-...</td>\n",
       "    </tr>\n",
       "  </tbody>\n",
       "</table>\n",
       "</div>"
      ],
      "text/plain": [
       "   reference_id  domain_start_id  \\\n",
       "0         23884             3292   \n",
       "1         65092             1265   \n",
       "2        193015              278   \n",
       "3         84150             1187   \n",
       "4         72410             3308   \n",
       "\n",
       "                                        response_url  \\\n",
       "0  https://bianchi-industrial.it/products/linear-...   \n",
       "1  https://vilagrancha.com/en/1292-complete-clutc...   \n",
       "2  https://www.groupe-lechevalier.com/produit/rou...   \n",
       "3  https://dachnikof.ru/products/Hozblok_Greensto...   \n",
       "4  https://www.bell.si/Lepila-in-tesnilne-mase/cy...   \n",
       "\n",
       "                                       response_text  \n",
       "0  <!doctypehtml><html class=no-js lang=en-GB><me...  \n",
       "1  <!doctypehtml><html lang=en><meta charset=utf-...  \n",
       "2  <!doctypehtml><html lang=fr xml:lang=fr xmlns:...  \n",
       "3  <!doctypehtml><html lang=ru-RU><meta content=\"...  \n",
       "4  <!doctypehtml><html lang=sl><meta charset=utf-...  "
      ]
     },
     "execution_count": 11,
     "metadata": {},
     "output_type": "execute_result"
    }
   ],
   "source": [
    "from sqlalchemy import create_engine\n",
    "import pandas as pd\n",
    "from dotenv import load_dotenv\n",
    "import os\n",
    "\n",
    "assert load_dotenv()\n",
    "\n",
    "host = os.getenv('DB_HOST')\n",
    "database = os.getenv('DB_NAME')\n",
    "user = os.getenv('DB_USER')\n",
    "password = os.getenv('DB_PASS')\n",
    "port = os.getenv('DB_PORT')\n",
    "\n",
    "connection_string  = f'postgresql://{user}:{password}@{host}:{port}/{database}'\n",
    "engine =  create_engine(connection_string)\n",
    "\n",
    "query = \"\"\"\n",
    "SELECT * FROM html_data limit 10\n",
    "\"\"\"\n",
    "\n",
    "df = pd.read_sql(query, engine)\n",
    "df.head()"
   ]
  },
  {
   "cell_type": "code",
   "execution_count": 13,
   "metadata": {},
   "outputs": [],
   "source": [
    "# save the df to a parquet file in the data folder HTMl_data.parquet\n",
    "df.to_parquet('data/HTML_data.parquet')"
   ]
  },
  {
   "cell_type": "code",
   "execution_count": 1,
   "metadata": {},
   "outputs": [
    {
     "data": {
      "text/plain": [
       "'test test'"
      ]
     },
     "execution_count": 1,
     "metadata": {},
     "output_type": "execute_result"
    }
   ],
   "source": [
    "'test test'"
   ]
  },
  {
   "cell_type": "code",
   "execution_count": 1,
   "metadata": {},
   "outputs": [
    {
     "data": {
      "text/plain": [
       "'test test test test'"
      ]
     },
     "execution_count": 1,
     "metadata": {},
     "output_type": "execute_result"
    }
   ],
   "source": [
    "\"test test test test\""
   ]
  }
 ],
 "metadata": {
  "kernelspec": {
   "display_name": ".haseigel",
   "language": "python",
   "name": "python3"
  },
  "language_info": {
   "codemirror_mode": {
    "name": "ipython",
    "version": 3
   },
   "file_extension": ".py",
   "mimetype": "text/x-python",
   "name": "python",
   "nbconvert_exporter": "python",
   "pygments_lexer": "ipython3",
   "version": "3.11.4"
  }
 },
 "nbformat": 4,
 "nbformat_minor": 2
}
