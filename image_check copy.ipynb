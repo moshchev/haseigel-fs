{
 "cells": [
  {
   "cell_type": "code",
   "execution_count": null,
   "metadata": {},
   "outputs": [],
   "source": [
    "import re\n",
    "import pandas as pd"
   ]
  },
  {
   "cell_type": "code",
   "execution_count": null,
   "metadata": {},
   "outputs": [],
   "source": [
    "# load the data from the file parquet in the data fodler\n",
    "df = pd.read_parquet('data/HTML.parquet')"
   ]
  },
  {
   "cell_type": "code",
   "execution_count": 8,
   "metadata": {},
   "outputs": [
    {
     "name": "stdout",
     "output_type": "stream",
     "text": [
      "Image links: ['data:image/svg+xml,%3Csvg xmlns=', 'data:image/png;base64, iVBORw0KGgoAAAANSUhEUgAAAJUAAABGCAAAAADgY4kSAAAACXBIWXMAAA9hAAAPYQGoP6dpAAAAEnRFWHRTb2Z0d2FyZQBCYXJjb2RlNEryjnYuAAADnElEQVR4Xu2UW0hUURSGd6OV3a/bsAwqsrIHicqXoiJEx0KDCqS0e+QU1YNZUlBUGt2Q7hTlBekilohUYmHZxShMyQjLikplwsSSLpqOjk5/+5yzz54ZnYfoef0Ps9fa+1//+dhzOAwe+s0epk8TawljBdmBCGeMNaLQH9btYnMXYy0rxQ7bXc3qNXdsYgN7KdbROXCw0hMhCDlRylh+DmPleMkaEoW1GPWsGk/YT6CFPcYbsWWFfyEaRRGOwOyCfvpzp6U/ZL/dGADzbIiKqIiKqHQRFVERFVERFVERlRRRERVREZUuoiIqoiIqoiIqopIiKqIiKqLSRVRERVRERVRERVRSJtUjzotyQxHFOW9CcRDi9ojNg5y32sQOT3vLP2vuVcmNvFqsU/Pg4GU6VRnnt/I4f4Fq3pgsrPfxmb9FOf8FtPJneC+24hBUjCZRRCE0t2ic/tx/o/of6VQ9N/9Rvqlat17RG0nlOh297p3Wn7LZbKmGT1ourbAmavcDVG2wbmkCfuxbHH9f6yVV99V1i3d+8ZpRFhWnChnim2rbuI16I6lSw0rTxvwQfcTmjIwCwyctx67f2zNMe+jzEcdKztUBi5aV5w6pgKJqXph1NyHE4TmjLCrOLMwQn1RPFuzwpHKNegDMOSP6iHzTpixCk25rR6eMZuALIOYkvP7B7sGV2mLOKIuKMwszxBeVI+xdsifVJ9YB7Fwj+ojoNUd/aQduS9u3/CBx552WO5u2PRP9kpS21+Or4EVlt2i3qWaURcXJQoX4oko5BPlI53F7RRYqB4rycIz4OZl9LXpqGzwtSbzvRbF8ZLNunB9aBtRODLCkaQeVmcjUrwhd1q3aomaURcXJQoVkVdiPO/VZKYaqGU7zkYZe+f0B9i43mq4J1+FtqQm8C3Gf4r1IWo3OyWf/NIReVrNCroSYLnjMeFn0OLMwQ3qL4cKAQYP6+oe7t1ostUB8iuzmnUcPS9x+cav9nwJHY1HTRxDsjZcnmlxrozq0Vc14W7Q4szBDesv4XnndFSJTYB9eLt6MD8DjgFfGpm5p/wTUBRWKKi4JnXOPoLV/CZzz97tnXesj2lWjzyiLilOFDOktX1QfpkwfeUCszSODJ424JDd1y9exwSFDtA89vsycHrxUfACujJ49NrJFjYp3xeLn53fTY0ZZVJwqzJBe8vq2m3J9/G6s9vruHkcNteZrWWd4nLXN7lPfMi0qzp0rQ3rqL+p9+3Ttrs8TAAAAAElFTkSuQmCC']\n",
      "Background images: []\n",
      "CSS images: ['https://www.kalydon.com.ar/wp/wp-content/plugins/directorist/assets/icons/line-awesome/svgs/map-marker-solid.svg', 'https://www.kalydon.com.ar/wp/wp-content/plugins/directorist/assets/icons/line-awesome/svgs/filter-solid.svg', 'https://www.kalydon.com.ar/wp/wp-content/plugins/directorist/assets/icons/line-awesome/svgs/crosshairs-solid.svg', 'https://www.kalydon.com.ar/wp/wp-content/plugins/directorist/assets/icons/line-awesome/svgs/phone-solid.svg', 'https://www.kalydon.com.ar/wp/wp-content/plugins/directorist/assets/icons/line-awesome/svgs/envelope-solid.svg']\n"
     ]
    }
   ],
   "source": [
    "import re\n",
    "#\n",
    "\n",
    "def extract_image_links(html):\n",
    "    # Use regular expressions to find all image links in the HTML\n",
    "    # This pattern matches both single and double quoted src attributes\n",
    "    image_links = re.findall(r'<img[^>]+src=[\\'\"]([^\\'\"]+)[\\'\"]', html)\n",
    "    \n",
    "    # Find all background images in inline styles\n",
    "    background_images = re.findall(r'style=[\\'\"][^\\'\"]*background-image:\\s*url\\([\\'\"]?([^\\)]+?)[\\'\"]?\\)', html)\n",
    "    \n",
    "    # Find all images in CSS url() functions\n",
    "    css_images = re.findall(r'url\\([\\'\"]?([^\\)]+?)[\\'\"]?\\)', html)\n",
    "    \n",
    "    # Return a dictionary with separate categories\n",
    "    return {\n",
    "        'image_links': list(dict.fromkeys(image_links)),\n",
    "        'background_images': list(dict.fromkeys(background_images)),\n",
    "        'css_images': list(dict.fromkeys(css_images))\n",
    "    }\n",
    "\n",
    "# Extract all image links from the response_text of all rows\n",
    "all_image_links = {\n",
    "    'image_links': [],\n",
    "    'background_images': [],\n",
    "    'css_images': []\n",
    "}\n",
    "\n",
    "for html in df['response_text']:\n",
    "    links = extract_image_links(html)\n",
    "    all_image_links['image_links'].extend(links['image_links'])\n",
    "    all_image_links['background_images'].extend(links['background_images'])\n",
    "    all_image_links['css_images'].extend(links['css_images'])\n",
    "\n",
    "# Remove duplicates from each category\n",
    "for category in all_image_links:\n",
    "    all_image_links[category] = list(dict.fromkeys(all_image_links[category]))\n",
    "\n",
    "# Print the first 5 links from each category\n",
    "print(\"Image links:\", all_image_links['image_links'][:5])\n",
    "print(\"Background images:\", all_image_links['background_images'][:5])\n",
    "print(\"CSS images:\", all_image_links['css_images'][:5])"
   ]
  },
  {
   "cell_type": "code",
   "execution_count": 1,
   "metadata": {},
   "outputs": [
    {
     "data": {
      "text/plain": [
       "'test test'"
      ]
     },
     "execution_count": 1,
     "metadata": {},
     "output_type": "execute_result"
    }
   ],
   "source": [
    "'test test'"
   ]
  },
  {
   "cell_type": "code",
   "execution_count": 1,
   "metadata": {},
   "outputs": [
    {
     "data": {
      "text/plain": [
       "'test test test test'"
      ]
     },
     "execution_count": 1,
     "metadata": {},
     "output_type": "execute_result"
    }
   ],
   "source": [
    "\"test test test test\""
   ]
  }
 ],
 "metadata": {
  "kernelspec": {
   "display_name": ".haseigel",
   "language": "python",
   "name": "python3"
  },
  "language_info": {
   "codemirror_mode": {
    "name": "ipython",
    "version": 3
   },
   "file_extension": ".py",
   "mimetype": "text/x-python",
   "name": "python",
   "nbconvert_exporter": "python",
   "pygments_lexer": "ipython3",
   "version": "3.11.4"
  }
 },
 "nbformat": 4,
 "nbformat_minor": 2
}
