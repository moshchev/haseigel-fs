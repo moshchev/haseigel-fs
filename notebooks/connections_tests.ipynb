{
 "cells": [
  {
   "cell_type": "code",
   "execution_count": 1,
   "metadata": {},
   "outputs": [],
   "source": [
    "import sys\n",
    "sys.path.append('..')"
   ]
  },
  {
   "cell_type": "code",
   "execution_count": 2,
   "metadata": {},
   "outputs": [
    {
     "name": "stderr",
     "output_type": "stream",
     "text": [
      "/Users/alexander/Desktop/projects/haseigel-fs/.haseigel/lib/python3.12/site-packages/tqdm/auto.py:21: TqdmWarning: IProgress not found. Please update jupyter and ipywidgets. See https://ipywidgets.readthedocs.io/en/stable/user_install.html\n",
      "  from .autonotebook import tqdm as notebook_tqdm\n"
     ]
    },
    {
     "name": "stdout",
     "output_type": "stream",
     "text": [
      "got the data\n"
     ]
    }
   ],
   "source": [
    "from dotenv import load_dotenv\n",
    "from app.utils.data_tool import get_html_data_as_json, create_db_engine\n",
    "import requests\n",
    "\n",
    "\n",
    "assert load_dotenv()\n",
    "engine = create_db_engine()\n",
    "input_data = get_html_data_as_json(engine)\n",
    "print('got the data')"
   ]
  },
  {
   "cell_type": "code",
   "execution_count": 8,
   "metadata": {},
   "outputs": [
    {
     "data": {
      "text/plain": [
       "'https://podshipnik-mo.ru/stopornyye-shayby'"
      ]
     },
     "execution_count": 8,
     "metadata": {},
     "output_type": "execute_result"
    }
   ],
   "source": [
    "input_data['data'][0]['base_url'][0]"
   ]
  },
  {
   "cell_type": "code",
   "execution_count": 4,
   "metadata": {},
   "outputs": [
    {
     "name": "stdout",
     "output_type": "stream",
     "text": [
      "Error sending data: 400\n",
      "{\n",
      "  \"error\": \"unhashable type: 'dict'\"\n",
      "}\n",
      "\n"
     ]
    }
   ],
   "source": [
    "# Send POST request to localhost with input data\n",
    "response = requests.post('http://127.0.0.1:5000/process-domains', json=input_data)\n",
    "\n",
    "# Check if request was successful\n",
    "if response.status_code == 200:\n",
    "    print('Successfully sent data to server')\n",
    "    print(response.json())\n",
    "else:\n",
    "    print(f'Error sending data: {response.status_code}')\n",
    "    print(response.text)"
   ]
  },
  {
   "cell_type": "code",
   "execution_count": 18,
   "metadata": {},
   "outputs": [],
   "source": [
    "from app.services.image_models import MobileViTClassifier\n",
    "from app.services.extract_images import download_images_with_local_path, extract_img_attributes\n",
    "from collections import defaultdict\n",
    "from app.config import TEMP_IMAGE_DIR\n",
    "\n",
    "def process_single_domain(domain_data, model):\n",
    "    domain_results = {\n",
    "        \"domain_start_id\": domain_data[\"domain_start_id\"],\n",
    "        \"predictions\": [],\n",
    "        \"statistics\": defaultdict(int)  # Will be populated based on actual predictions\n",
    "    }\n",
    "    \n",
    "    # Process images\n",
    "    for html in domain_data[\"response_text\"]:\n",
    "        img_data = extract_img_attributes(html)\n",
    "        # print(img_data)\n",
    "        # break\n",
    "        for img in img_data:\n",
    "            # First download the image and add local path\n",
    "            download_images_with_local_path([img], TEMP_IMAGE_DIR)\n",
    "            \n",
    "            # Then check if download was successful and local path was added\n",
    "            if \"local_path\" in img:\n",
    "                # Skip SVG files since they can't be processed by the model\n",
    "                if img[\"local_path\"].lower().endswith('.svg'): ### TODO this is a wrong place to check it, we shouldnt download SVGs in the first place\n",
    "                    continue\n",
    "                prediction = model.predict(img[\"local_path\"])['prediction']\n",
    "                \n",
    "                # Store individual prediction\n",
    "                domain_results[\"predictions\"].append({\n",
    "                    \"image_path\": img[\"local_path\"],\n",
    "                    \"predicted_class\": prediction\n",
    "                })\n",
    "                \n",
    "                # Update statistics counter\n",
    "                domain_results[\"statistics\"][prediction] += 1\n",
    "    \n",
    "    return domain_results\n",
    "\n",
    "\n",
    "def process_domains(domains_data, output_type=\"detailed\"):\n",
    "    model = MobileViTClassifier()\n",
    "\n",
    "    detailed_results = []\n",
    "    summary_stats = {\n",
    "        \"total_domains\": 0,\n",
    "        \"total_images\": 0,\n",
    "        \"statistics\": defaultdict(int)\n",
    "    }\n",
    "    \n",
    "    for domain in domains_data[\"data\"]:\n",
    "        domain_results = process_single_domain(domain, model)\n",
    "        detailed_results.append({\n",
    "            \"domain_start_id\": domain[\"domain_start_id\"],\n",
    "            \"statistics\": dict(domain_results[\"statistics\"]),  # Convert defaultdict to regular dict\n",
    "            \"predictions\": domain_results[\"predictions\"],\n",
    "            \"total_images\": len(domain_results[\"predictions\"])\n",
    "        })\n",
    "        \n",
    "        # Update summary\n",
    "        summary_stats[\"total_domains\"] += 1\n",
    "        summary_stats[\"total_images\"] += len(domain_results[\"predictions\"])\n",
    "        for category, count in domain_results[\"statistics\"].items():\n",
    "            summary_stats[\"statistics\"][category] += count\n",
    "\n",
    "    # Convert summary_stats['statistics'] back to regular dict\n",
    "    summary_stats[\"statistics\"] = dict(summary_stats[\"statistics\"])\n",
    "    \n",
    "    if output_type == \"detailed\":\n",
    "        return {\n",
    "            \"status\": \"success\",\n",
    "            \"output\": {\n",
    "                \"details\": detailed_results,\n",
    "                \"summary\": dict(summary_stats)  # Convert defaultdict to regular dict\n",
    "            }\n",
    "        }\n",
    "    else:\n",
    "        return {\n",
    "            \"status\": \"success\",\n",
    "            \"output\": dict(summary_stats)  # Convert defaultdict to regular dict\n",
    "        }"
   ]
  },
  {
   "cell_type": "code",
   "execution_count": 19,
   "metadata": {},
   "outputs": [
    {
     "name": "stderr",
     "output_type": "stream",
     "text": [
      "/Users/alexander/Desktop/projects/haseigel-fs/.haseigel/lib/python3.10/site-packages/PIL/Image.py:1054: UserWarning: Palette images with Transparency expressed in bytes should be converted to RGBA images\n",
      "  warnings.warn(\n"
     ]
    },
    {
     "data": {
      "text/plain": [
       "{'status': 'success',\n",
       " 'output': {'details': [{'domain_start_id': 181,\n",
       "    'statistics': {},\n",
       "    'predictions': [],\n",
       "    'total_images': 0},\n",
       "   {'domain_start_id': 278,\n",
       "    'statistics': {},\n",
       "    'predictions': [],\n",
       "    'total_images': 0},\n",
       "   {'domain_start_id': 1187,\n",
       "    'statistics': {},\n",
       "    'predictions': [],\n",
       "    'total_images': 0},\n",
       "   {'domain_start_id': 1189,\n",
       "    'statistics': {'prison, prison house': 1,\n",
       "     'screen, CRT screen': 1,\n",
       "     'swab, swob, mop': 27,\n",
       "     'chime, bell, gong': 1,\n",
       "     'hook, claw': 2},\n",
       "    'predictions': [{'image_path': '/Users/alexander/Desktop/projects/haseigel-fs/data/images/temp/0_logo_kalydon.png',\n",
       "      'predicted_class': 'prison, prison house'},\n",
       "     {'image_path': '/Users/alexander/Desktop/projects/haseigel-fs/data/images/temp/0_iso_kalydon.png',\n",
       "      'predicted_class': 'screen, CRT screen'},\n",
       "     {'image_path': '/Users/alexander/Desktop/projects/haseigel-fs/data/images/temp/0_WEB-RUBI.jpg',\n",
       "      'predicted_class': 'swab, swob, mop'},\n",
       "     {'image_path': '/Users/alexander/Desktop/projects/haseigel-fs/data/images/temp/0_WEB-RUBI.jpg',\n",
       "      'predicted_class': 'swab, swob, mop'},\n",
       "     {'image_path': '/Users/alexander/Desktop/projects/haseigel-fs/data/images/temp/0_WEB-RUBI.jpg',\n",
       "      'predicted_class': 'swab, swob, mop'},\n",
       "     {'image_path': '/Users/alexander/Desktop/projects/haseigel-fs/data/images/temp/0_WEB-RUBI.jpg',\n",
       "      'predicted_class': 'swab, swob, mop'},\n",
       "     {'image_path': '/Users/alexander/Desktop/projects/haseigel-fs/data/images/temp/0_WEB-RUBI.jpg',\n",
       "      'predicted_class': 'swab, swob, mop'},\n",
       "     {'image_path': '/Users/alexander/Desktop/projects/haseigel-fs/data/images/temp/0_WEB-RUBI.jpg',\n",
       "      'predicted_class': 'swab, swob, mop'},\n",
       "     {'image_path': '/Users/alexander/Desktop/projects/haseigel-fs/data/images/temp/0_WEB-RUBI.jpg',\n",
       "      'predicted_class': 'swab, swob, mop'},\n",
       "     {'image_path': '/Users/alexander/Desktop/projects/haseigel-fs/data/images/temp/0_WEB-RUBI.jpg',\n",
       "      'predicted_class': 'swab, swob, mop'},\n",
       "     {'image_path': '/Users/alexander/Desktop/projects/haseigel-fs/data/images/temp/0_WEB-RUBI.jpg',\n",
       "      'predicted_class': 'swab, swob, mop'},\n",
       "     {'image_path': '/Users/alexander/Desktop/projects/haseigel-fs/data/images/temp/0_WEB-RUBI.jpg',\n",
       "      'predicted_class': 'swab, swob, mop'},\n",
       "     {'image_path': '/Users/alexander/Desktop/projects/haseigel-fs/data/images/temp/0_WEB-RUBI.jpg',\n",
       "      'predicted_class': 'swab, swob, mop'},\n",
       "     {'image_path': '/Users/alexander/Desktop/projects/haseigel-fs/data/images/temp/0_WEB-RUBI.jpg',\n",
       "      'predicted_class': 'swab, swob, mop'},\n",
       "     {'image_path': '/Users/alexander/Desktop/projects/haseigel-fs/data/images/temp/0_WEB-RUBI.jpg',\n",
       "      'predicted_class': 'swab, swob, mop'},\n",
       "     {'image_path': '/Users/alexander/Desktop/projects/haseigel-fs/data/images/temp/0_WEB-RUBI.jpg',\n",
       "      'predicted_class': 'swab, swob, mop'},\n",
       "     {'image_path': '/Users/alexander/Desktop/projects/haseigel-fs/data/images/temp/0_WEB-RUBI.jpg',\n",
       "      'predicted_class': 'swab, swob, mop'},\n",
       "     {'image_path': '/Users/alexander/Desktop/projects/haseigel-fs/data/images/temp/0_WEB-RUBI.jpg',\n",
       "      'predicted_class': 'swab, swob, mop'},\n",
       "     {'image_path': '/Users/alexander/Desktop/projects/haseigel-fs/data/images/temp/0_WEB-RUBI.jpg',\n",
       "      'predicted_class': 'swab, swob, mop'},\n",
       "     {'image_path': '/Users/alexander/Desktop/projects/haseigel-fs/data/images/temp/0_WEB-RUBI.jpg',\n",
       "      'predicted_class': 'swab, swob, mop'},\n",
       "     {'image_path': '/Users/alexander/Desktop/projects/haseigel-fs/data/images/temp/0_WEB-RUBI.jpg',\n",
       "      'predicted_class': 'swab, swob, mop'},\n",
       "     {'image_path': '/Users/alexander/Desktop/projects/haseigel-fs/data/images/temp/0_WEB-RUBI.jpg',\n",
       "      'predicted_class': 'swab, swob, mop'},\n",
       "     {'image_path': '/Users/alexander/Desktop/projects/haseigel-fs/data/images/temp/0_WEB-RUBI.jpg',\n",
       "      'predicted_class': 'swab, swob, mop'},\n",
       "     {'image_path': '/Users/alexander/Desktop/projects/haseigel-fs/data/images/temp/0_WEB-RUBI.jpg',\n",
       "      'predicted_class': 'swab, swob, mop'},\n",
       "     {'image_path': '/Users/alexander/Desktop/projects/haseigel-fs/data/images/temp/0_WEB-RUBI.jpg',\n",
       "      'predicted_class': 'swab, swob, mop'},\n",
       "     {'image_path': '/Users/alexander/Desktop/projects/haseigel-fs/data/images/temp/0_WEB-RUBI.jpg',\n",
       "      'predicted_class': 'swab, swob, mop'},\n",
       "     {'image_path': '/Users/alexander/Desktop/projects/haseigel-fs/data/images/temp/0_WEB-RUBI.jpg',\n",
       "      'predicted_class': 'swab, swob, mop'},\n",
       "     {'image_path': '/Users/alexander/Desktop/projects/haseigel-fs/data/images/temp/0_WEB-RUBI.jpg',\n",
       "      'predicted_class': 'swab, swob, mop'},\n",
       "     {'image_path': '/Users/alexander/Desktop/projects/haseigel-fs/data/images/temp/0_WEB-RUBI.jpg',\n",
       "      'predicted_class': 'swab, swob, mop'},\n",
       "     {'image_path': '/Users/alexander/Desktop/projects/haseigel-fs/data/images/temp/0_logo_kalydon_footer.png',\n",
       "      'predicted_class': 'chime, bell, gong'},\n",
       "     {'image_path': '/Users/alexander/Desktop/projects/haseigel-fs/data/images/temp/0_icon_face.png',\n",
       "      'predicted_class': 'hook, claw'},\n",
       "     {'image_path': '/Users/alexander/Desktop/projects/haseigel-fs/data/images/temp/0_icon_youtube.png',\n",
       "      'predicted_class': 'hook, claw'}],\n",
       "    'total_images': 32},\n",
       "   {'domain_start_id': 1265,\n",
       "    'statistics': {'slot, one-armed bandit': 2,\n",
       "     'harmonica, mouth organ, harp, mouth harp': 1,\n",
       "     'analog clock': 2,\n",
       "     'digital clock': 1},\n",
       "    'predictions': [{'image_path': '/Users/alexander/Desktop/projects/haseigel-fs/data/images/temp/0_2.jpg',\n",
       "      'predicted_class': 'slot, one-armed bandit'},\n",
       "     {'image_path': '/Users/alexander/Desktop/projects/haseigel-fs/data/images/temp/0_1.jpg',\n",
       "      'predicted_class': 'harmonica, mouth organ, harp, mouth harp'},\n",
       "     {'image_path': '/Users/alexander/Desktop/projects/haseigel-fs/data/images/temp/0_2.jpg',\n",
       "      'predicted_class': 'slot, one-armed bandit'},\n",
       "     {'image_path': '/Users/alexander/Desktop/projects/haseigel-fs/data/images/temp/0_logo-1691485617.jpg',\n",
       "      'predicted_class': 'analog clock'},\n",
       "     {'image_path': '/Users/alexander/Desktop/projects/haseigel-fs/data/images/temp/0_logo-1691485617.jpg',\n",
       "      'predicted_class': 'analog clock'},\n",
       "     {'image_path': '/Users/alexander/Desktop/projects/haseigel-fs/data/images/temp/0_wim-logo-footer.png',\n",
       "      'predicted_class': 'digital clock'}],\n",
       "    'total_images': 6},\n",
       "   {'domain_start_id': 1867,\n",
       "    'statistics': {},\n",
       "    'predictions': [],\n",
       "    'total_images': 0},\n",
       "   {'domain_start_id': 2378,\n",
       "    'statistics': {},\n",
       "    'predictions': [],\n",
       "    'total_images': 0},\n",
       "   {'domain_start_id': 3292,\n",
       "    'statistics': {'scoreboard': 1,\n",
       "     'book jacket, dust cover, dust jacket, dust wrapper': 6,\n",
       "     'chain': 1,\n",
       "     'safety pin': 1,\n",
       "     'oboe, hautboy, hautbois': 1,\n",
       "     'analog clock': 2,\n",
       "     'hook, claw': 1},\n",
       "    'predictions': [{'image_path': '/Users/alexander/Desktop/projects/haseigel-fs/data/images/temp/0_cropped-Logo_hero.webp',\n",
       "      'predicted_class': 'scoreboard'},\n",
       "     {'image_path': '/Users/alexander/Desktop/projects/haseigel-fs/data/images/temp/0_Logo_hero.webp',\n",
       "      'predicted_class': 'book jacket, dust cover, dust jacket, dust wrapper'},\n",
       "     {'image_path': '/Users/alexander/Desktop/projects/haseigel-fs/data/images/temp/0_cuscinetti_a_sfere-315x242.jpg',\n",
       "      'predicted_class': 'chain'},\n",
       "     {'image_path': '/Users/alexander/Desktop/projects/haseigel-fs/data/images/temp/0_trasmissioni-di-potenza-315x242.jpeg',\n",
       "      'predicted_class': 'safety pin'},\n",
       "     {'image_path': '/Users/alexander/Desktop/projects/haseigel-fs/data/images/temp/0_ICONA_LINEARE-315x242.jpg',\n",
       "      'predicted_class': 'oboe, hautboy, hautbois'},\n",
       "     {'image_path': '/Users/alexander/Desktop/projects/haseigel-fs/data/images/temp/0_pneumatica_01-315x242.jpeg',\n",
       "      'predicted_class': 'analog clock'},\n",
       "     {'image_path': '/Users/alexander/Desktop/projects/haseigel-fs/data/images/temp/0_sistemi_di_tenuta-315x242.jpg',\n",
       "      'predicted_class': 'hook, claw'},\n",
       "     {'image_path': '/Users/alexander/Desktop/projects/haseigel-fs/data/images/temp/0_monitoraggio_utensili-1-315x242.jpeg',\n",
       "      'predicted_class': 'analog clock'},\n",
       "     {'image_path': '/Users/alexander/Desktop/projects/haseigel-fs/data/images/temp/0_Gruppobianchi.png',\n",
       "      'predicted_class': 'book jacket, dust cover, dust jacket, dust wrapper'},\n",
       "     {'image_path': '/Users/alexander/Desktop/projects/haseigel-fs/data/images/temp/0_CQY_9.15_14.15_45.18_EN_RGB.png',\n",
       "      'predicted_class': 'book jacket, dust cover, dust jacket, dust wrapper'},\n",
       "     {'image_path': '/Users/alexander/Desktop/projects/haseigel-fs/data/images/temp/0_epda.webp',\n",
       "      'predicted_class': 'book jacket, dust cover, dust jacket, dust wrapper'},\n",
       "     {'image_path': '/Users/alexander/Desktop/projects/haseigel-fs/data/images/temp/0_FAI_I200_PAY-scaled.jpg',\n",
       "      'predicted_class': 'book jacket, dust cover, dust jacket, dust wrapper'},\n",
       "     {'image_path': '/Users/alexander/Desktop/projects/haseigel-fs/data/images/temp/0_privacy-by-pro.png',\n",
       "      'predicted_class': 'book jacket, dust cover, dust jacket, dust wrapper'}],\n",
       "    'total_images': 13},\n",
       "   {'domain_start_id': 3308,\n",
       "    'statistics': {},\n",
       "    'predictions': [],\n",
       "    'total_images': 0}],\n",
       "  'summary': {'total_domains': 9,\n",
       "   'total_images': 51,\n",
       "   'statistics': {'prison, prison house': 1,\n",
       "    'screen, CRT screen': 1,\n",
       "    'swab, swob, mop': 27,\n",
       "    'chime, bell, gong': 1,\n",
       "    'hook, claw': 3,\n",
       "    'slot, one-armed bandit': 2,\n",
       "    'harmonica, mouth organ, harp, mouth harp': 1,\n",
       "    'analog clock': 4,\n",
       "    'digital clock': 1,\n",
       "    'scoreboard': 1,\n",
       "    'book jacket, dust cover, dust jacket, dust wrapper': 6,\n",
       "    'chain': 1,\n",
       "    'safety pin': 1,\n",
       "    'oboe, hautboy, hautbois': 1}}}}"
      ]
     },
     "execution_count": 19,
     "metadata": {},
     "output_type": "execute_result"
    }
   ],
   "source": [
    "process_domains(input_data)"
   ]
  },
  {
   "cell_type": "code",
   "execution_count": 20,
   "metadata": {},
   "outputs": [],
   "source": [
    "ouputs = _"
   ]
  },
  {
   "cell_type": "code",
   "execution_count": 21,
   "metadata": {},
   "outputs": [
    {
     "data": {
      "text/plain": [
       "{'total_domains': 9,\n",
       " 'total_images': 51,\n",
       " 'statistics': {'prison, prison house': 1,\n",
       "  'screen, CRT screen': 1,\n",
       "  'swab, swob, mop': 27,\n",
       "  'chime, bell, gong': 1,\n",
       "  'hook, claw': 3,\n",
       "  'slot, one-armed bandit': 2,\n",
       "  'harmonica, mouth organ, harp, mouth harp': 1,\n",
       "  'analog clock': 4,\n",
       "  'digital clock': 1,\n",
       "  'scoreboard': 1,\n",
       "  'book jacket, dust cover, dust jacket, dust wrapper': 6,\n",
       "  'chain': 1,\n",
       "  'safety pin': 1,\n",
       "  'oboe, hautboy, hautbois': 1}}"
      ]
     },
     "execution_count": 21,
     "metadata": {},
     "output_type": "execute_result"
    }
   ],
   "source": [
    "ouputs['output']['summary']"
   ]
  }
 ],
 "metadata": {
  "kernelspec": {
   "display_name": ".haseigel",
   "language": "python",
   "name": "python3"
  },
  "language_info": {
   "codemirror_mode": {
    "name": "ipython",
    "version": 3
   },
   "file_extension": ".py",
   "mimetype": "text/x-python",
   "name": "python",
   "nbconvert_exporter": "python",
   "pygments_lexer": "ipython3",
   "version": "3.12.6"
  }
 },
 "nbformat": 4,
 "nbformat_minor": 2
}
